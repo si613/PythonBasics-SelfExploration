{
 "cells": [
  {
   "cell_type": "markdown",
   "id": "a8beb62c",
   "metadata": {},
   "source": [
    "# Functions"
   ]
  },
  {
   "cell_type": "markdown",
   "id": "de46b9a9",
   "metadata": {},
   "source": [
    "Three types:\n",
    "    \n",
    "    inbuilt functions\n",
    "    lambda functions\n",
    "    user defined functions "
   ]
  },
  {
   "cell_type": "markdown",
   "id": "89fb7849",
   "metadata": {},
   "source": [
    "**in built functions**: https://www.w3schools.com/python/python_ref_functions.asp"
   ]
  },
  {
   "cell_type": "markdown",
   "id": "923b866b",
   "metadata": {},
   "source": [
    "**user defined functions**\n",
    "\n",
    "def name_of_function():\n",
    "\n",
    "    functionality"
   ]
  },
  {
   "cell_type": "code",
   "execution_count": 2,
   "id": "dd381c70",
   "metadata": {},
   "outputs": [
    {
     "name": "stdout",
     "output_type": "stream",
     "text": [
      "Hey, 7, 0613\n"
     ]
    }
   ],
   "source": [
    "def panda():\n",
    "    print('Hey, 7, 0613')\n",
    "    \n",
    "panda()"
   ]
  },
  {
   "cell_type": "code",
   "execution_count": 3,
   "id": "94a3c032",
   "metadata": {},
   "outputs": [
    {
     "name": "stdout",
     "output_type": "stream",
     "text": [
      "Hey, 7, 0613\n",
      "None\n"
     ]
    }
   ],
   "source": [
    "print(panda())\n",
    "\n",
    "#printing a function can return None statement if it does not have a return value"
   ]
  },
  {
   "cell_type": "code",
   "execution_count": 5,
   "id": "7fae4229",
   "metadata": {},
   "outputs": [
    {
     "data": {
      "text/plain": [
       "'slay, 7, 0613'"
      ]
     },
     "execution_count": 5,
     "metadata": {},
     "output_type": "execute_result"
    }
   ],
   "source": [
    "def panda2():\n",
    "    return('slay, 7, 0613')\n",
    "\n",
    "panda2()"
   ]
  },
  {
   "cell_type": "code",
   "execution_count": 6,
   "id": "369cb612",
   "metadata": {},
   "outputs": [
    {
     "name": "stdout",
     "output_type": "stream",
     "text": [
      "slay, 7, 0613\n"
     ]
    }
   ],
   "source": [
    "print(panda2())  # None statement is absent here"
   ]
  },
  {
   "cell_type": "code",
   "execution_count": 7,
   "id": "5a0ed47c",
   "metadata": {},
   "outputs": [
    {
     "data": {
      "text/plain": [
       "20"
      ]
     },
     "execution_count": 7,
     "metadata": {},
     "output_type": "execute_result"
    }
   ],
   "source": [
    "def add(x,y):\n",
    "    return x+y\n",
    "\n",
    "add(7,13)"
   ]
  },
  {
   "cell_type": "markdown",
   "id": "1cd5f3a2",
   "metadata": {},
   "source": [
    "**Lambda Functions**\n",
    "\n",
    "lambda function also called anonymous function - dont need to define name of function\n",
    "\n",
    "you can give as many arguments as you want, but you will get only one expression\n",
    "\n",
    "lambda is usually for small functions, mostly when dealing with numbers. udf used for complex functions\n",
    "\n",
    "lambda arguments: expression"
   ]
  },
  {
   "cell_type": "code",
   "execution_count": 8,
   "id": "bb8a089c",
   "metadata": {},
   "outputs": [
    {
     "data": {
      "text/plain": [
       "4.0"
      ]
     },
     "execution_count": 8,
     "metadata": {},
     "output_type": "execute_result"
    }
   ],
   "source": [
    "o= lambda x,y:x/y\n",
    "o(20,5)"
   ]
  },
  {
   "cell_type": "code",
   "execution_count": 9,
   "id": "f2ee2ead",
   "metadata": {},
   "outputs": [
    {
     "data": {
      "text/plain": [
       "224"
      ]
     },
     "execution_count": 9,
     "metadata": {},
     "output_type": "execute_result"
    }
   ],
   "source": [
    "y= lambda a,b,c,d: a*b*c*d\n",
    "y(4,7,1,8)"
   ]
  },
  {
   "cell_type": "code",
   "execution_count": 10,
   "id": "bf5341c4",
   "metadata": {},
   "outputs": [
    {
     "data": {
      "text/plain": [
       "143"
      ]
     },
     "execution_count": 10,
     "metadata": {},
     "output_type": "execute_result"
    }
   ],
   "source": [
    "c=lambda panda: panda+100\n",
    "c(43)"
   ]
  },
  {
   "cell_type": "code",
   "execution_count": null,
   "id": "6b62375e",
   "metadata": {},
   "outputs": [],
   "source": []
  }
 ],
 "metadata": {
  "kernelspec": {
   "display_name": "Python 3 (ipykernel)",
   "language": "python",
   "name": "python3"
  },
  "language_info": {
   "codemirror_mode": {
    "name": "ipython",
    "version": 3
   },
   "file_extension": ".py",
   "mimetype": "text/x-python",
   "name": "python",
   "nbconvert_exporter": "python",
   "pygments_lexer": "ipython3",
   "version": "3.10.9"
  }
 },
 "nbformat": 4,
 "nbformat_minor": 5
}
