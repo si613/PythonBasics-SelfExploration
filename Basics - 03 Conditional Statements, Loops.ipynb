{
 "cells": [
  {
   "cell_type": "markdown",
   "id": "069a98f2",
   "metadata": {},
   "source": [
    "# conditional statements - if, else, elif"
   ]
  },
  {
   "cell_type": "markdown",
   "id": "99b83a3c",
   "metadata": {},
   "source": [
    "if condition:\n",
    "    output"
   ]
  },
  {
   "cell_type": "code",
   "execution_count": 1,
   "id": "b93f69ee",
   "metadata": {},
   "outputs": [
    {
     "name": "stdout",
     "output_type": "stream",
     "text": [
      "yay\n"
     ]
    }
   ],
   "source": [
    "#simple if statement\n",
    "\n",
    "x=4\n",
    "\n",
    "if x>1:\n",
    "    print (\"yay\")"
   ]
  },
  {
   "cell_type": "code",
   "execution_count": 2,
   "id": "f48e9371",
   "metadata": {},
   "outputs": [
    {
     "name": "stdout",
     "output_type": "stream",
     "text": [
      "bye\n"
     ]
    }
   ],
   "source": [
    "# if else\n",
    "\n",
    "x=0\n",
    "\n",
    "if x==1:\n",
    "    print('hi')\n",
    "else:\n",
    "    print ('bye')"
   ]
  },
  {
   "cell_type": "code",
   "execution_count": 4,
   "id": "a2f4b72d",
   "metadata": {},
   "outputs": [
    {
     "name": "stdout",
     "output_type": "stream",
     "text": [
      "Drink\n",
      "More\n",
      "Water\n"
     ]
    }
   ],
   "source": [
    "#multiple ifs - the conditions that meet will be executed, rest wont be\n",
    "\n",
    "a=10\n",
    "\n",
    "if a>2:\n",
    "    print('Drink')\n",
    "if a>3:\n",
    "    print('More')\n",
    "if a>5:\n",
    "    print ('Water')\n",
    "if a>10:\n",
    "    print ('Please')"
   ]
  },
  {
   "cell_type": "code",
   "execution_count": 5,
   "id": "60722dd0",
   "metadata": {},
   "outputs": [
    {
     "name": "stdout",
     "output_type": "stream",
     "text": [
      "hello\n"
     ]
    }
   ],
   "source": [
    "#elif else - if --- the moment the first condition is met, it will come out of the elif block\n",
    "\n",
    "a=10\n",
    "\n",
    "if a<5:\n",
    "    print('hi')\n",
    "elif a>6:\n",
    "    print('hello')\n",
    "elif a>8:\n",
    "    print('ola')\n",
    "elif a>9:\n",
    "    print('namaste')\n",
    "else:\n",
    "    print('bye')"
   ]
  },
  {
   "cell_type": "code",
   "execution_count": 6,
   "id": "f45b4a80",
   "metadata": {},
   "outputs": [],
   "source": [
    "a=1\n",
    "\n",
    "if a>5:\n",
    "    print('hi')\n",
    "elif a>6:\n",
    "    print('hello')\n",
    "elif a>8:\n",
    "    print('ola')\n",
    "elif a>9:\n",
    "    print('namaste')\n",
    "\n",
    "#else is optional, if all conditions fail, there will be no output"
   ]
  },
  {
   "cell_type": "code",
   "execution_count": 7,
   "id": "831b3f0f",
   "metadata": {},
   "outputs": [
    {
     "name": "stdout",
     "output_type": "stream",
     "text": [
      "oh no\n"
     ]
    }
   ],
   "source": [
    "#nested if else - inside one if-else block, there will be another if-else block\n",
    "\n",
    "a=10\n",
    "\n",
    "if a>4:\n",
    "    if a>10:\n",
    "        print('TRUE')\n",
    "        \n",
    "    else:\n",
    "        print ('oh no')\n",
    "else:\n",
    "    print ('come on')"
   ]
  },
  {
   "cell_type": "code",
   "execution_count": 8,
   "id": "947aef5c",
   "metadata": {},
   "outputs": [
    {
     "name": "stdout",
     "output_type": "stream",
     "text": [
      "rest\n"
     ]
    }
   ],
   "source": [
    "# 'and' requires both requirements to be true\n",
    "\n",
    "age=22\n",
    "\n",
    "if (age>25 and age<65):\n",
    "    print('work')\n",
    "else:\n",
    "    print('rest')"
   ]
  },
  {
   "cell_type": "code",
   "execution_count": 9,
   "id": "d890c2fd",
   "metadata": {},
   "outputs": [
    {
     "name": "stdout",
     "output_type": "stream",
     "text": [
      "yes\n"
     ]
    }
   ],
   "source": [
    "#IS is used when pointing to one object, meanwhile '=, >' etc check for values\n",
    "\n",
    "a = None\n",
    "\n",
    "if (a is None):\n",
    "    print('yes')\n",
    "else:\n",
    "    print('no')"
   ]
  },
  {
   "cell_type": "code",
   "execution_count": 10,
   "id": "f5c525a4",
   "metadata": {},
   "outputs": [
    {
     "name": "stdout",
     "output_type": "stream",
     "text": [
      "True\n"
     ]
    }
   ],
   "source": [
    "#IN is used to check for values inside a list, also used in 'for loops'\n",
    "\n",
    "k= [6, 13, 7]\n",
    "print (7 in k)"
   ]
  },
  {
   "cell_type": "markdown",
   "id": "71239f20",
   "metadata": {},
   "source": [
    "## looping statements - for "
   ]
  },
  {
   "cell_type": "code",
   "execution_count": 11,
   "id": "2f65a9f5",
   "metadata": {},
   "outputs": [
    {
     "name": "stdout",
     "output_type": "stream",
     "text": [
      "1\n",
      "2\n",
      "3\n",
      "4\n"
     ]
    }
   ],
   "source": [
    "# FOR LOOP - example\n",
    "\n",
    "a=[1,2,3,4]\n",
    "for variable in a:\n",
    "    print(variable)"
   ]
  },
  {
   "cell_type": "code",
   "execution_count": 12,
   "id": "f56c8194",
   "metadata": {},
   "outputs": [
    {
     "name": "stdout",
     "output_type": "stream",
     "text": [
      "1\n",
      "2\n",
      "3\n",
      "4\n"
     ]
    }
   ],
   "source": [
    "x=[1,2,3,4]\n",
    "for panda in x:\n",
    "    print(panda)"
   ]
  },
  {
   "cell_type": "code",
   "execution_count": 13,
   "id": "6cda910f",
   "metadata": {},
   "outputs": [
    {
     "name": "stdout",
     "output_type": "stream",
     "text": [
      "6\n",
      "7\n",
      "8\n",
      "9\n"
     ]
    }
   ],
   "source": [
    "x=[1,2,3,4]\n",
    "for panda in x:\n",
    "    print(panda+5)"
   ]
  },
  {
   "cell_type": "code",
   "execution_count": 14,
   "id": "39b9e4fa",
   "metadata": {},
   "outputs": [
    {
     "name": "stdout",
     "output_type": "stream",
     "text": [
      "6789"
     ]
    }
   ],
   "source": [
    "x=[1,2,3,4] \n",
    "for panda in x:\n",
    "    print(panda+5, end=\"\")    #how to make output in one line"
   ]
  },
  {
   "cell_type": "markdown",
   "id": "099531a9",
   "metadata": {},
   "source": [
    "**range function** - mostly used with for loop\n",
    "\n",
    "range(start, end, step)"
   ]
  },
  {
   "cell_type": "code",
   "execution_count": 15,
   "id": "7cc0a440",
   "metadata": {},
   "outputs": [
    {
     "name": "stdout",
     "output_type": "stream",
     "text": [
      "0\n",
      "1\n",
      "2\n",
      "3\n",
      "4\n",
      "5\n",
      "6\n",
      "7\n",
      "8\n",
      "9\n",
      "10\n"
     ]
    }
   ],
   "source": [
    "for i in range(0,11):\n",
    "    print(i)"
   ]
  },
  {
   "cell_type": "code",
   "execution_count": 16,
   "id": "a53b6a6c",
   "metadata": {},
   "outputs": [
    {
     "name": "stdout",
     "output_type": "stream",
     "text": [
      "0\n",
      "2\n",
      "4\n",
      "6\n",
      "8\n",
      "10\n",
      "12\n"
     ]
    }
   ],
   "source": [
    "for x in range (0,14,2):\n",
    "    print(x)"
   ]
  },
  {
   "cell_type": "code",
   "execution_count": 2,
   "id": "a14d8180",
   "metadata": {},
   "outputs": [
    {
     "name": "stdout",
     "output_type": "stream",
     "text": [
      "1\n",
      "4\n",
      "9\n",
      "16\n",
      "25\n",
      "36\n",
      "49\n",
      "64\n",
      "81\n",
      "100\n"
     ]
    }
   ],
   "source": [
    "for r in range(1,11):\n",
    "    print (r*r)"
   ]
  },
  {
   "cell_type": "markdown",
   "id": "6caeb99c",
   "metadata": {},
   "source": [
    "For a given list that contains numbers from 1 to 20. Using a for loop, create a new list that contains the square of each element from the given list."
   ]
  },
  {
   "cell_type": "code",
   "execution_count": 3,
   "id": "5f3d8e1d",
   "metadata": {},
   "outputs": [
    {
     "name": "stdout",
     "output_type": "stream",
     "text": [
      "[1, 2, 3, 4, 5, 6, 7, 8, 9, 10, 11, 12, 13, 14, 15, 16, 17, 18, 19, 20]\n"
     ]
    }
   ],
   "source": [
    "#creating a list from range\n",
    "lis=list(range(1,21))\n",
    "print (lis)"
   ]
  },
  {
   "cell_type": "code",
   "execution_count": 4,
   "id": "ef01ba1a",
   "metadata": {},
   "outputs": [
    {
     "name": "stdout",
     "output_type": "stream",
     "text": [
      "[1, 4, 9, 16, 25, 36, 49, 64, 81, 100, 121, 144, 169, 196, 225, 256, 289, 324, 361, 400]\n"
     ]
    }
   ],
   "source": [
    "lis2=[]\n",
    "\n",
    "for square in lis:\n",
    "    lis2.append(square*square)\n",
    "print (lis2)"
   ]
  },
  {
   "cell_type": "markdown",
   "id": "f719cc5f",
   "metadata": {},
   "source": [
    "For a given dictionary that contains numbers from 1-10 as keys, and their square as values, display each key-value pair using a for loop."
   ]
  },
  {
   "cell_type": "code",
   "execution_count": 5,
   "id": "00e45dc6",
   "metadata": {},
   "outputs": [
    {
     "name": "stdout",
     "output_type": "stream",
     "text": [
      "{1: 1, 2: 4, 3: 9, 4: 16, 5: 25, 6: 36, 7: 49, 8: 64, 9: 81, 10: 100}\n"
     ]
    }
   ],
   "source": [
    "dic={}\n",
    "for x in range(1,11):\n",
    "    dic[x]=x**2\n",
    "print(dic)  "
   ]
  },
  {
   "cell_type": "markdown",
   "id": "cc58d509",
   "metadata": {},
   "source": [
    "## looping statements - while"
   ]
  },
  {
   "cell_type": "markdown",
   "id": "c572e230",
   "metadata": {},
   "source": [
    "\n",
    "while (condition which is true):\n",
    "\n",
    "    print(output)"
   ]
  },
  {
   "cell_type": "code",
   "execution_count": 17,
   "id": "06a6fbe4",
   "metadata": {},
   "outputs": [
    {
     "name": "stdout",
     "output_type": "stream",
     "text": [
      "good game\n"
     ]
    }
   ],
   "source": [
    "a=10                #if used without 'break', the kernel will print output indefinitely and crash the system\n",
    "while a>3:\n",
    "    print('good game')\n",
    "    break "
   ]
  },
  {
   "cell_type": "code",
   "execution_count": 20,
   "id": "db6380fa",
   "metadata": {},
   "outputs": [
    {
     "name": "stdout",
     "output_type": "stream",
     "text": [
      "0\n",
      "1\n",
      "2\n",
      "3\n",
      "4\n"
     ]
    }
   ],
   "source": [
    "i=0\n",
    "while i<5:\n",
    "    print(i)\n",
    "    i=i+1"
   ]
  },
  {
   "cell_type": "code",
   "execution_count": null,
   "id": "1c9d2b77",
   "metadata": {},
   "outputs": [],
   "source": []
  }
 ],
 "metadata": {
  "kernelspec": {
   "display_name": "Python 3 (ipykernel)",
   "language": "python",
   "name": "python3"
  },
  "language_info": {
   "codemirror_mode": {
    "name": "ipython",
    "version": 3
   },
   "file_extension": ".py",
   "mimetype": "text/x-python",
   "name": "python",
   "nbconvert_exporter": "python",
   "pygments_lexer": "ipython3",
   "version": "3.10.9"
  }
 },
 "nbformat": 4,
 "nbformat_minor": 5
}
