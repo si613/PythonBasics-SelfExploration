{
 "cells": [
  {
   "cell_type": "markdown",
   "id": "cb422bda",
   "metadata": {},
   "source": [
    "# Basics - Object types"
   ]
  },
  {
   "cell_type": "markdown",
   "id": "09517a3d",
   "metadata": {},
   "source": [
    "**MUTABLE**\n",
    "\n",
    "it can be changed after declaration - LIST, DICTIONARY, SET\n",
    "\n",
    "**IMMUTABLE**\n",
    "\n",
    "it can't be changed after declaration - TUPLES, INT, FLOAT, BOOL, STRINGS"
   ]
  },
  {
   "cell_type": "markdown",
   "id": "f05ea1fa",
   "metadata": {},
   "source": [
    "## LIST (Mutable)"
   ]
  },
  {
   "cell_type": "code",
   "execution_count": 1,
   "id": "153d9be1",
   "metadata": {},
   "outputs": [
    {
     "name": "stdout",
     "output_type": "stream",
     "text": [
      "['slay,-^', 'apbp', 7777.777, 1306, 'is', True, False, 'golden']\n"
     ]
    }
   ],
   "source": [
    "#List can store any data type inside itself = []\n",
    "\n",
    "a=['slay,-^', 'apbp', 7777.777, 1306, 'is', True, False, 'golden']\n",
    "print(a)"
   ]
  },
  {
   "cell_type": "code",
   "execution_count": 2,
   "id": "744947eb",
   "metadata": {},
   "outputs": [
    {
     "name": "stdout",
     "output_type": "stream",
     "text": [
      "['slay,-^', 'apbp', 7777.777, 1306, 'is', True, False, 'golden', 'herbivorous dinosaur']\n"
     ]
    }
   ],
   "source": [
    "#list.append() adds the value at the end of the list\n",
    "a.append('herbivorous dinosaur')\n",
    "print(a)"
   ]
  },
  {
   "cell_type": "markdown",
   "id": "bc24f92e",
   "metadata": {},
   "source": [
    "**indexing** - refers to fetching a single value from particular datatype.\n",
    "An index is the address of a value and it always starts at 0 \n",
    "\n",
    "**negative index:** it starts from right with -1, -2 etc\n",
    "\n",
    "**slicing** - if  you want to fetch more than one element using index values\n"
   ]
  },
  {
   "cell_type": "code",
   "execution_count": 4,
   "id": "83ed5704",
   "metadata": {},
   "outputs": [
    {
     "data": {
      "text/plain": [
       "'apbp'"
      ]
     },
     "execution_count": 4,
     "metadata": {},
     "output_type": "execute_result"
    }
   ],
   "source": [
    "a[1]"
   ]
  },
  {
   "cell_type": "code",
   "execution_count": 5,
   "id": "fb4ac53c",
   "metadata": {},
   "outputs": [
    {
     "data": {
      "text/plain": [
       "'golden'"
      ]
     },
     "execution_count": 5,
     "metadata": {},
     "output_type": "execute_result"
    }
   ],
   "source": [
    "a[-2]"
   ]
  },
  {
   "cell_type": "code",
   "execution_count": 7,
   "id": "f2c6b99d",
   "metadata": {},
   "outputs": [
    {
     "data": {
      "text/plain": [
       "[True, False, 'golden', 'herbivorous dinosaur']"
      ]
     },
     "execution_count": 7,
     "metadata": {},
     "output_type": "execute_result"
    }
   ],
   "source": [
    "a[-4:]\n",
    "\n",
    "#it will start from -4 and go up (-3,-2,-1)"
   ]
  },
  {
   "cell_type": "code",
   "execution_count": 8,
   "id": "3a934675",
   "metadata": {},
   "outputs": [
    {
     "data": {
      "text/plain": [
       "['slay,-^', 'apbp', 7777.777]"
      ]
     },
     "execution_count": 8,
     "metadata": {},
     "output_type": "execute_result"
    }
   ],
   "source": [
    "a[0:3]"
   ]
  },
  {
   "cell_type": "code",
   "execution_count": 9,
   "id": "856e83f4",
   "metadata": {},
   "outputs": [
    {
     "data": {
      "text/plain": [
       "['slay,-^', 7777.777, 'is']"
      ]
     },
     "execution_count": 9,
     "metadata": {},
     "output_type": "execute_result"
    }
   ],
   "source": [
    "a[0:6:2]\n",
    "#the step element jumps over elements as many times as the value entered"
   ]
  },
  {
   "cell_type": "code",
   "execution_count": 10,
   "id": "b60b6602",
   "metadata": {},
   "outputs": [
    {
     "name": "stdout",
     "output_type": "stream",
     "text": [
      "['slay,-^', 'apbp', 7777.777, 1306, 'is', 'seven', False, 'golden', 'herbivorous dinosaur']\n"
     ]
    }
   ],
   "source": [
    "a[5]='seven'\n",
    "print (a)\n",
    "\n",
    "#replaced the value of the 5th index(in this case the bool value True) with the new value"
   ]
  },
  {
   "cell_type": "code",
   "execution_count": 11,
   "id": "326f66fc",
   "metadata": {},
   "outputs": [
    {
     "data": {
      "text/plain": [
       "['herbivorous dinosaur',\n",
       " 'golden',\n",
       " False,\n",
       " 'seven',\n",
       " 'is',\n",
       " 1306,\n",
       " 7777.777,\n",
       " 'apbp',\n",
       " 'slay,-^']"
      ]
     },
     "execution_count": 11,
     "metadata": {},
     "output_type": "execute_result"
    }
   ],
   "source": [
    "a[::-1]\n",
    "# a horizontal list in reverse"
   ]
  },
  {
   "cell_type": "code",
   "execution_count": 13,
   "id": "d0fc17c2",
   "metadata": {},
   "outputs": [
    {
     "data": {
      "text/plain": [
       "['apbp',\n",
       " 7777.777,\n",
       " 1306,\n",
       " 'is',\n",
       " 'seven',\n",
       " False,\n",
       " 'golden',\n",
       " 'herbivorous dinosaur']"
      ]
     },
     "execution_count": 13,
     "metadata": {},
     "output_type": "execute_result"
    }
   ],
   "source": [
    "#removes the value\n",
    "a.pop(0)\n",
    "a"
   ]
  },
  {
   "cell_type": "markdown",
   "id": "8e7a8591",
   "metadata": {},
   "source": [
    "## SETS {} - Mutable"
   ]
  },
  {
   "cell_type": "markdown",
   "id": "cf1a052d",
   "metadata": {},
   "source": [
    "**UNORDERED COLLECTION OF UNIQUE ITEMS**, sometimes it will show as asc, desc or random order "
   ]
  },
  {
   "cell_type": "code",
   "execution_count": 14,
   "id": "1ce39b58",
   "metadata": {},
   "outputs": [
    {
     "name": "stdout",
     "output_type": "stream",
     "text": [
      "{1, 98, 3, 7.98, 54, 7, 14}\n"
     ]
    }
   ],
   "source": [
    "c={1,3,7,7.98,14,54,98}\n",
    "print(c)"
   ]
  },
  {
   "cell_type": "code",
   "execution_count": 16,
   "id": "c3b3a78f",
   "metadata": {},
   "outputs": [
    {
     "name": "stdout",
     "output_type": "stream",
     "text": [
      "{0, True, 'Panda', 4, 'panda', 9}\n"
     ]
    }
   ],
   "source": [
    "#True is 1 and 0 is False. Since sets dont take duplicate values\n",
    "#the value entered first (between True/1 and false/0) will be registered\n",
    "\n",
    "b={4,9, 'panda', 'Panda', True, 1, 0, False}\n",
    "print (b)"
   ]
  },
  {
   "cell_type": "markdown",
   "id": "e27c4676",
   "metadata": {},
   "source": [
    "## DICTIONARY {key:value} - Mutable "
   ]
  },
  {
   "cell_type": "code",
   "execution_count": 27,
   "id": "56b5625c",
   "metadata": {},
   "outputs": [
    {
     "name": "stdout",
     "output_type": "stream",
     "text": [
      "{'a': 'apple', 'b': [1, 3, 7], 'c': 'cat'}\n"
     ]
    }
   ],
   "source": [
    "dict1={\n",
    "    'a':'apple',\n",
    "    'b':[1,3,7],\n",
    "    'c':'cat'    \n",
    "}\n",
    "\n",
    "print (dict1)"
   ]
  },
  {
   "cell_type": "code",
   "execution_count": 28,
   "id": "6b24f1ed",
   "metadata": {},
   "outputs": [
    {
     "data": {
      "text/plain": [
       "dict_keys(['a', 'b', 'c'])"
      ]
     },
     "execution_count": 28,
     "metadata": {},
     "output_type": "execute_result"
    }
   ],
   "source": [
    "dict1.keys()"
   ]
  },
  {
   "cell_type": "code",
   "execution_count": 29,
   "id": "ff76bfc1",
   "metadata": {},
   "outputs": [
    {
     "data": {
      "text/plain": [
       "dict_values(['apple', [1, 3, 7], 'cat'])"
      ]
     },
     "execution_count": 29,
     "metadata": {},
     "output_type": "execute_result"
    }
   ],
   "source": [
    "dict1.values()"
   ]
  },
  {
   "cell_type": "code",
   "execution_count": 30,
   "id": "698e9a3f",
   "metadata": {},
   "outputs": [
    {
     "data": {
      "text/plain": [
       "'cat'"
      ]
     },
     "execution_count": 30,
     "metadata": {},
     "output_type": "execute_result"
    }
   ],
   "source": [
    "dict1['c']"
   ]
  },
  {
   "cell_type": "markdown",
   "id": "06521754",
   "metadata": {},
   "source": [
    "## TUPLE () - Immutable "
   ]
  },
  {
   "cell_type": "code",
   "execution_count": 18,
   "id": "23615d25",
   "metadata": {},
   "outputs": [
    {
     "data": {
      "text/plain": [
       "(613, 7.0, True, 'tan')"
      ]
     },
     "execution_count": 18,
     "metadata": {},
     "output_type": "execute_result"
    }
   ],
   "source": [
    "# tuple only has count and index function\n",
    "t=(613, 7.0 , True, 'tan')\n",
    "t"
   ]
  },
  {
   "cell_type": "code",
   "execution_count": 19,
   "id": "ce91d3a4",
   "metadata": {},
   "outputs": [
    {
     "data": {
      "text/plain": [
       "7.0"
      ]
     },
     "execution_count": 19,
     "metadata": {},
     "output_type": "execute_result"
    }
   ],
   "source": [
    "t[1]"
   ]
  },
  {
   "cell_type": "code",
   "execution_count": 21,
   "id": "04ac25ce",
   "metadata": {},
   "outputs": [
    {
     "data": {
      "text/plain": [
       "1"
      ]
     },
     "execution_count": 21,
     "metadata": {},
     "output_type": "execute_result"
    }
   ],
   "source": [
    "t.count(True)"
   ]
  },
  {
   "cell_type": "code",
   "execution_count": 22,
   "id": "581eca3f",
   "metadata": {},
   "outputs": [
    {
     "data": {
      "text/plain": [
       "3"
      ]
     },
     "execution_count": 22,
     "metadata": {},
     "output_type": "execute_result"
    }
   ],
   "source": [
    "t.index('tan')"
   ]
  }
 ],
 "metadata": {
  "kernelspec": {
   "display_name": "Python 3 (ipykernel)",
   "language": "python",
   "name": "python3"
  },
  "language_info": {
   "codemirror_mode": {
    "name": "ipython",
    "version": 3
   },
   "file_extension": ".py",
   "mimetype": "text/x-python",
   "name": "python",
   "nbconvert_exporter": "python",
   "pygments_lexer": "ipython3",
   "version": "3.10.9"
  }
 },
 "nbformat": 4,
 "nbformat_minor": 5
}
