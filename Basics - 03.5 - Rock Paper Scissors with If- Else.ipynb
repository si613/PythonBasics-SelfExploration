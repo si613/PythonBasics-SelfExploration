{
 "cells": [
  {
   "cell_type": "markdown",
   "id": "a4c07c4b",
   "metadata": {},
   "source": [
    "#  game rock paper scissors"
   ]
  },
  {
   "cell_type": "code",
   "execution_count": 1,
   "id": "69381310",
   "metadata": {},
   "outputs": [],
   "source": [
    "import random\n",
    "\n",
    "def gamerpf():\n",
    "    user_turn= input('Your turn! Enter your choice- Rock(r), Paper (p) or Scissors (s): ')\n",
    "    \n",
    "    gamechoices = ['r','p','s']\n",
    "    \n",
    "    comp_turn = random.choice(gamechoices) \n",
    "    \n",
    "    print(f'You chose {user_turn} and computer chose {comp_turn}!')\n",
    "    \n",
    "    if user_turn not in gamechoices:\n",
    "        print('Please select amongst the three options only')\n",
    "        \n",
    "    if user_turn == comp_turn:\n",
    "        print('It is a tie!')\n",
    "    elif user_turn == 'r':\n",
    "        if comp_turn == 'p':\n",
    "            print('Paper caught rock, YOU LOSE!')\n",
    "        else:\n",
    "            print('Rock smashed scissors, YOU WIN!')\n",
    "    elif user_turn == 'p':\n",
    "        if comp_turn == 'r':\n",
    "            print('Paper caught rock, YOU WIN!')\n",
    "        else:\n",
    "            print('Scissors cut paper, YOU LOSE!')\n",
    "    elif user_turn == 's':\n",
    "        if comp_turn == 'p':\n",
    "            print('Scissors cut paper, YOU WIN!')\n",
    "        else:\n",
    "            print('Rock smashed scissors, YOU LOSE!')\n",
    "   "
   ]
  },
  {
   "cell_type": "code",
   "execution_count": 2,
   "id": "5761df9b",
   "metadata": {},
   "outputs": [
    {
     "name": "stdout",
     "output_type": "stream",
     "text": [
      "Your turn! Enter your choice- Rock(r), Paper (p) or Scissors (s): r\n",
      "You chose r and computer chose p!\n",
      "Paper caught rock, YOU LOSE!\n"
     ]
    }
   ],
   "source": [
    "gamerpf()"
   ]
  },
  {
   "cell_type": "code",
   "execution_count": 4,
   "id": "0b3dd69f",
   "metadata": {},
   "outputs": [
    {
     "name": "stdout",
     "output_type": "stream",
     "text": [
      "Your turn! Enter your choice- Rock(r), Paper (p) or Scissors (s): s\n",
      "You chose s and computer chose s!\n",
      "It is a tie!\n"
     ]
    }
   ],
   "source": [
    "gamerpf()"
   ]
  },
  {
   "cell_type": "code",
   "execution_count": 8,
   "id": "23a01dfa",
   "metadata": {},
   "outputs": [
    {
     "name": "stdout",
     "output_type": "stream",
     "text": [
      "Your turn! Enter your choice- Rock(r), Paper (p) or Scissors (s): s\n",
      "You chose s and computer chose p!\n",
      "Scissors cut paper, YOU WIN!\n"
     ]
    }
   ],
   "source": [
    "gamerpf()"
   ]
  },
  {
   "cell_type": "code",
   "execution_count": null,
   "id": "36e9abde",
   "metadata": {},
   "outputs": [],
   "source": []
  }
 ],
 "metadata": {
  "kernelspec": {
   "display_name": "Python 3 (ipykernel)",
   "language": "python",
   "name": "python3"
  },
  "language_info": {
   "codemirror_mode": {
    "name": "ipython",
    "version": 3
   },
   "file_extension": ".py",
   "mimetype": "text/x-python",
   "name": "python",
   "nbconvert_exporter": "python",
   "pygments_lexer": "ipython3",
   "version": "3.10.9"
  }
 },
 "nbformat": 4,
 "nbformat_minor": 5
}
