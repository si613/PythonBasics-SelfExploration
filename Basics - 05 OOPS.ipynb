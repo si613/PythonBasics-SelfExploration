{
 "cells": [
  {
   "cell_type": "markdown",
   "id": "24c9d4ca",
   "metadata": {},
   "source": [
    "# OOPS - object oriented programming"
   ]
  },
  {
   "cell_type": "markdown",
   "id": "a06a646a",
   "metadata": {},
   "source": [
    "piece of code is structured with oops;\n",
    "- provides reuasability -  to avoid (dry) Dont Repeat Yourself\n",
    "\n",
    "- modularity: breaking down pieces of code into smaller pieces\n",
    "\n",
    "OOPS revolves around two things- CLASSES and OBJECTS (in python)\n",
    "\n",
    "example:\n",
    "\n",
    "#CLASS:\n",
    "\n",
    "    AMINALS\n",
    "\n",
    "#OBJECTS:\n",
    "\n",
    "    DOGS,\n",
    "    TIGERS,\n",
    "    RATS\n"
   ]
  },
  {
   "cell_type": "code",
   "execution_count": null,
   "id": "cfb1125e",
   "metadata": {},
   "outputs": [],
   "source": [
    "#CLASS\n",
    "class Name_of_class:\n",
    "    implementation\n",
    "    \n",
    "#OBJECTS- they are built from the classes; from a single class, you can derive infinite objects\n",
    "name_of_object= derived_class()\n",
    "\n",
    "#classes are blueprint of object \n",
    "#objects are instances of class"
   ]
  },
  {
   "cell_type": "code",
   "execution_count": 1,
   "id": "6622deb3",
   "metadata": {},
   "outputs": [],
   "source": [
    "class Birds:\n",
    "    z=100"
   ]
  },
  {
   "cell_type": "code",
   "execution_count": 3,
   "id": "4a3d14ee",
   "metadata": {},
   "outputs": [],
   "source": [
    "Kiwi=Birds()\n",
    "Parrot=Birds()\n",
    "Sparrow=Birds()"
   ]
  },
  {
   "cell_type": "code",
   "execution_count": 4,
   "id": "04c6b7b6",
   "metadata": {},
   "outputs": [
    {
     "data": {
      "text/plain": [
       "100"
      ]
     },
     "execution_count": 4,
     "metadata": {},
     "output_type": "execute_result"
    }
   ],
   "source": [
    "Sparrow.z"
   ]
  },
  {
   "cell_type": "code",
   "execution_count": 7,
   "id": "dbc7f71e",
   "metadata": {},
   "outputs": [],
   "source": [
    "#you cant keep implementation part empty but using the pass keyword, pass acts as a placeholder\n",
    "class car:\n",
    "    pass             "
   ]
  },
  {
   "cell_type": "code",
   "execution_count": 8,
   "id": "56c47ec0",
   "metadata": {},
   "outputs": [],
   "source": [
    "class car:\n",
    "    x=1000\n",
    "    \n",
    "    def speed(self):                 #use SELF keyword inside function when dealing with classes\n",
    "        print('it is luxury')"
   ]
  },
  {
   "cell_type": "code",
   "execution_count": 9,
   "id": "62cb841e",
   "metadata": {},
   "outputs": [],
   "source": [
    "bentley = car()"
   ]
  },
  {
   "cell_type": "code",
   "execution_count": 12,
   "id": "2a9bf4cf",
   "metadata": {},
   "outputs": [
    {
     "data": {
      "text/plain": [
       "1000"
      ]
     },
     "execution_count": 12,
     "metadata": {},
     "output_type": "execute_result"
    }
   ],
   "source": [
    "bentley.x"
   ]
  },
  {
   "cell_type": "code",
   "execution_count": 13,
   "id": "50ad73cb",
   "metadata": {},
   "outputs": [
    {
     "name": "stdout",
     "output_type": "stream",
     "text": [
      "it is luxury\n"
     ]
    }
   ],
   "source": [
    "bentley.speed()   #() used when calling for functions"
   ]
  },
  {
   "cell_type": "code",
   "execution_count": 14,
   "id": "b5a23b68",
   "metadata": {},
   "outputs": [],
   "source": [
    "class bikes:\n",
    "    x=100\n",
    "    y=2\n",
    "    \n",
    "    def colour(self):\n",
    "        print('it is black')\n",
    "        \n",
    "    def engine(self):\n",
    "        print('it is good')"
   ]
  },
  {
   "cell_type": "code",
   "execution_count": 15,
   "id": "077da7fd",
   "metadata": {},
   "outputs": [],
   "source": [
    "h2r=bikes()\n",
    "ducati=bikes()"
   ]
  },
  {
   "cell_type": "code",
   "execution_count": 16,
   "id": "c25101ac",
   "metadata": {},
   "outputs": [
    {
     "name": "stdout",
     "output_type": "stream",
     "text": [
      "it is black\n"
     ]
    }
   ],
   "source": [
    "h2r.colour()"
   ]
  },
  {
   "cell_type": "code",
   "execution_count": 17,
   "id": "648af5bb",
   "metadata": {},
   "outputs": [
    {
     "data": {
      "text/plain": [
       "2"
      ]
     },
     "execution_count": 17,
     "metadata": {},
     "output_type": "execute_result"
    }
   ],
   "source": [
    "ducati.y"
   ]
  },
  {
   "cell_type": "code",
   "execution_count": 18,
   "id": "a0083af1",
   "metadata": {},
   "outputs": [
    {
     "name": "stdout",
     "output_type": "stream",
     "text": [
      "it is good\n"
     ]
    }
   ],
   "source": [
    "ducati.engine()"
   ]
  },
  {
   "cell_type": "markdown",
   "id": "02d68fc9",
   "metadata": {},
   "source": [
    "## Constructor in OOPS\n",
    "    used to derive/put all the variables at a single place. This helps in organising and looking through the code as well"
   ]
  },
  {
   "cell_type": "code",
   "execution_count": 19,
   "id": "6010f9c0",
   "metadata": {},
   "outputs": [],
   "source": [
    "#it has a keyword: __init__ (2 underscores)"
   ]
  },
  {
   "cell_type": "code",
   "execution_count": 20,
   "id": "cad52279",
   "metadata": {},
   "outputs": [],
   "source": [
    "class Animal:\n",
    "    def __init__(self, a, b, c):\n",
    "        self.a=a\n",
    "        self.b=b\n",
    "        self.c=c"
   ]
  },
  {
   "cell_type": "code",
   "execution_count": 21,
   "id": "46d907b6",
   "metadata": {},
   "outputs": [],
   "source": [
    "Dog = Animal('Husky', 'Labrador', 'Corgi')"
   ]
  },
  {
   "cell_type": "code",
   "execution_count": 22,
   "id": "5a35cec9",
   "metadata": {},
   "outputs": [
    {
     "data": {
      "text/plain": [
       "'Labrador'"
      ]
     },
     "execution_count": 22,
     "metadata": {},
     "output_type": "execute_result"
    }
   ],
   "source": [
    "Dog.b"
   ]
  },
  {
   "cell_type": "code",
   "execution_count": 37,
   "id": "1ffda45d",
   "metadata": {},
   "outputs": [],
   "source": [
    "class Human:\n",
    "    def __init__(self, name, age, gender):\n",
    "        self.name=name\n",
    "        self.age=age\n",
    "        self.gender=gender\n",
    "        \n",
    "    def show(self):\n",
    "        print(self.name, self.age)  "
   ]
  },
  {
   "cell_type": "code",
   "execution_count": 33,
   "id": "1fb074ed",
   "metadata": {},
   "outputs": [],
   "source": [
    "Candidate1 = Human('Harry Potter', 10, 'Male')"
   ]
  },
  {
   "cell_type": "code",
   "execution_count": 34,
   "id": "875360bf",
   "metadata": {},
   "outputs": [
    {
     "data": {
      "text/plain": [
       "'Harry Potter'"
      ]
     },
     "execution_count": 34,
     "metadata": {},
     "output_type": "execute_result"
    }
   ],
   "source": [
    "Candidate1.name"
   ]
  },
  {
   "cell_type": "code",
   "execution_count": 35,
   "id": "4f804588",
   "metadata": {},
   "outputs": [
    {
     "name": "stdout",
     "output_type": "stream",
     "text": [
      "Harry Potter 10\n"
     ]
    }
   ],
   "source": [
    "Candidate1.show()"
   ]
  },
  {
   "cell_type": "code",
   "execution_count": 38,
   "id": "2338419f",
   "metadata": {},
   "outputs": [],
   "source": [
    "class circle:\n",
    "    def __init__(self, radius):\n",
    "        self.radius=radius\n",
    "        \n",
    "    def area(self):\n",
    "        return 3.14 * (self.radius**2)  #pi r ^2\n",
    "    \n",
    "    def perimeter(self):\n",
    "        return 2 * 3.14 *self.radius\n",
    "    "
   ]
  },
  {
   "cell_type": "code",
   "execution_count": 42,
   "id": "5f6f3b88",
   "metadata": {},
   "outputs": [],
   "source": [
    "Bangle = circle(3)"
   ]
  },
  {
   "cell_type": "code",
   "execution_count": 43,
   "id": "63fbc10f",
   "metadata": {},
   "outputs": [
    {
     "data": {
      "text/plain": [
       "28.26"
      ]
     },
     "execution_count": 43,
     "metadata": {},
     "output_type": "execute_result"
    }
   ],
   "source": [
    "Bangle.area()"
   ]
  },
  {
   "cell_type": "markdown",
   "id": "13c14183",
   "metadata": {},
   "source": [
    "# 4 PILLARS OF OOPS"
   ]
  },
  {
   "cell_type": "markdown",
   "id": "b2f72129",
   "metadata": {},
   "source": [
    "1. INHERITANCE\n",
    "\n",
    "        a. single level inheritance\n",
    "        b. multilevel inheritance \n",
    "        c. multiple inheritance \n",
    "\n",
    "\n",
    "2. POLYMORPHISM\n",
    "\n",
    "        --having more than one form\n",
    "    \n",
    "\n",
    "3. ENCAPSULATION\n",
    "\n",
    "        a. binding all the data members into a single class- done when you create a normal class too\n",
    "        b. using encapsultion, you can hide your code and information by using 'private specifier' and protecting data\n",
    "\n",
    "\n",
    "4. DATA ABSTRACTION\n",
    "\n",
    "        --hiding unneccessary data and showing only the necessary data\n"
   ]
  },
  {
   "cell_type": "markdown",
   "id": "3896c6cb",
   "metadata": {},
   "source": [
    "## 1. INHERITANCE"
   ]
  },
  {
   "cell_type": "code",
   "execution_count": 44,
   "id": "97c14e7f",
   "metadata": {},
   "outputs": [],
   "source": [
    "#inheritance - single level \n",
    "\n",
    "#there will be one parent class and one child class - the child will inherit all the properties from the parent class\n",
    "\n",
    "class BIKES:\n",
    "    def speed(self):\n",
    "        print('It is fast')\n",
    "        \n",
    "    def color(self):\n",
    "        print ('it is red')"
   ]
  },
  {
   "cell_type": "code",
   "execution_count": 45,
   "id": "81b3490b",
   "metadata": {},
   "outputs": [],
   "source": [
    "class CAR(BIKES):           #write name of parent class\n",
    "    def tyre(self):\n",
    "        print('it is cool')\n",
    "        \n",
    "    def brake(self):\n",
    "        print('it works')"
   ]
  },
  {
   "cell_type": "code",
   "execution_count": 46,
   "id": "75ad5844",
   "metadata": {},
   "outputs": [],
   "source": [
    "ninja=BIKES()\n",
    "audi=CAR()"
   ]
  },
  {
   "cell_type": "code",
   "execution_count": 47,
   "id": "b816c2e8",
   "metadata": {},
   "outputs": [
    {
     "name": "stdout",
     "output_type": "stream",
     "text": [
      "It is fast\n"
     ]
    }
   ],
   "source": [
    "audi.speed()     #now the child class objects have the parent class implementation too"
   ]
  },
  {
   "cell_type": "code",
   "execution_count": 48,
   "id": "b80b495a",
   "metadata": {},
   "outputs": [],
   "source": [
    "#multilevel inheritance - \n",
    "#first the parent class will inherit from grandparent class, then the child class will inherit from parent class\n",
    "#in this way child class will have properties of both parent and grandparent\n",
    "\n",
    "class CYCLE(CAR):\n",
    "    def aesthetic(self):\n",
    "        print('It is namjooning')\n",
    "        \n",
    "    def environment(self):\n",
    "        print ('it is environment friendly')"
   ]
  },
  {
   "cell_type": "code",
   "execution_count": 49,
   "id": "4e90e28b",
   "metadata": {},
   "outputs": [],
   "source": [
    "ladybird=CYCLE()"
   ]
  },
  {
   "cell_type": "code",
   "execution_count": 50,
   "id": "64f11831",
   "metadata": {},
   "outputs": [
    {
     "name": "stdout",
     "output_type": "stream",
     "text": [
      "It is fast\n"
     ]
    }
   ],
   "source": [
    "ladybird.speed() #now ladybird  is grandchild with 6 properties"
   ]
  },
  {
   "cell_type": "code",
   "execution_count": 51,
   "id": "f5b89c36",
   "metadata": {},
   "outputs": [],
   "source": [
    "#Multiple inheritance-\n",
    "#there can be multiple parent classes but only one child class who'll inherit all the properties from the parent classes\n",
    "\n",
    "class anime:\n",
    "    def cool(self): \n",
    "        print(\"it is cool\")\n",
    "    \n",
    "    def amazing(self): \n",
    "        print(\"it is amazing\")\n",
    "        \n",
    "class cartoons: \n",
    "    def kids(self): \n",
    "        print(\"its kid friendly\") \n",
    "    \n",
    "    def childish(self): \n",
    "        print(\"it is childish\")\n",
    "            \n",
    "            \n",
    "class toons(cartoons, anime):     #write both, or as many parent classes you want at once\n",
    "    def good(self): \n",
    "        print(\"it is good\")\n",
    "        \n",
    "    def bad(self): \n",
    "        print(\"it is bad\")"
   ]
  },
  {
   "cell_type": "code",
   "execution_count": 52,
   "id": "4372db9f",
   "metadata": {},
   "outputs": [],
   "source": [
    "Kaneki=anime()\n",
    "Ferb=cartoons()\n",
    "Donald=toons()"
   ]
  },
  {
   "cell_type": "code",
   "execution_count": 53,
   "id": "7f785ac8",
   "metadata": {},
   "outputs": [
    {
     "name": "stdout",
     "output_type": "stream",
     "text": [
      "it is amazing\n"
     ]
    }
   ],
   "source": [
    "Donald.amazing()    #now class toons got properties of both parent classes"
   ]
  },
  {
   "cell_type": "code",
   "execution_count": 54,
   "id": "1e82c19a",
   "metadata": {},
   "outputs": [
    {
     "name": "stdout",
     "output_type": "stream",
     "text": [
      "its kid friendly\n"
     ]
    }
   ],
   "source": [
    "Donald.kids()"
   ]
  },
  {
   "cell_type": "markdown",
   "id": "bc2949b2",
   "metadata": {},
   "source": [
    "## 2. POLYMORPHISM"
   ]
  },
  {
   "cell_type": "code",
   "execution_count": 55,
   "id": "e0e4d60a",
   "metadata": {},
   "outputs": [],
   "source": [
    "class Spain():\n",
    "    def currency(self):   #inside class, functions are called methods, variables are called attributes\n",
    "        print(\"Euro\")\n",
    "\n",
    "    def language(self):\n",
    "        print(\"Spanish\")\n",
    "\n",
    "\n",
    "class SouthKorea():\n",
    "    def currency(self):   #the methods in both classes are the same here\n",
    "        print(\"Won\")\n",
    "\n",
    "    def language(self):\n",
    "        print(\"Korean\")"
   ]
  },
  {
   "cell_type": "code",
   "execution_count": 57,
   "id": "5f53bf23",
   "metadata": {},
   "outputs": [
    {
     "name": "stdout",
     "output_type": "stream",
     "text": [
      "Euro\n",
      "Spanish\n",
      "Won\n",
      "Korean\n"
     ]
    }
   ],
   "source": [
    "Tomas = Spain()\n",
    "Minji = SouthKorea()   #the methods take different forms in each class\n",
    "\n",
    "for country in (Tomas, Minji):\n",
    "    country.currency()\n",
    "    country.language()\n"
   ]
  },
  {
   "cell_type": "code",
   "execution_count": null,
   "id": "6ba777ac",
   "metadata": {},
   "outputs": [],
   "source": [
    "#method overriding - \n",
    "#occurs in inheritance where the latest method of the same name is given preference and thus called"
   ]
  },
  {
   "cell_type": "markdown",
   "id": "bb36974e",
   "metadata": {},
   "source": [
    "## 3. ENCAPSULATION"
   ]
  },
  {
   "cell_type": "code",
   "execution_count": 59,
   "id": "d1bbd3ac",
   "metadata": {},
   "outputs": [],
   "source": [
    "#encapsulation- binding all the data members into a single class\n",
    "\n",
    "#to hide/protect your code, use private specifier __\n",
    "\n",
    "class cats:\n",
    "    __a=7\n",
    "    b=13\n",
    "    \n",
    "    def __meow(self):\n",
    "        print('lil meow meow')\n",
    "        \n",
    "#because those functions and variables are hidden, it wont show up in results. \n",
    "#In real time projects, this is how data is encrypted to protect data\n",
    "\n",
    "#we can use and access the data only inside the class, not outside the class\n",
    "        \n",
    "Pookie=cats()"
   ]
  },
  {
   "cell_type": "code",
   "execution_count": 60,
   "id": "027b2343",
   "metadata": {},
   "outputs": [
    {
     "ename": "AttributeError",
     "evalue": "'cats' object has no attribute 'a'",
     "output_type": "error",
     "traceback": [
      "\u001b[1;31m---------------------------------------------------------------------------\u001b[0m",
      "\u001b[1;31mAttributeError\u001b[0m                            Traceback (most recent call last)",
      "Cell \u001b[1;32mIn[60], line 1\u001b[0m\n\u001b[1;32m----> 1\u001b[0m \u001b[43mPookie\u001b[49m\u001b[38;5;241;43m.\u001b[39;49m\u001b[43ma\u001b[49m\n",
      "\u001b[1;31mAttributeError\u001b[0m: 'cats' object has no attribute 'a'"
     ]
    }
   ],
   "source": [
    "Pookie.a #hidden "
   ]
  },
  {
   "cell_type": "code",
   "execution_count": 61,
   "id": "59c68665",
   "metadata": {},
   "outputs": [
    {
     "data": {
      "text/plain": [
       "13"
      ]
     },
     "execution_count": 61,
     "metadata": {},
     "output_type": "execute_result"
    }
   ],
   "source": [
    "Pookie.b"
   ]
  },
  {
   "cell_type": "code",
   "execution_count": 62,
   "id": "f78514fc",
   "metadata": {},
   "outputs": [
    {
     "ename": "AttributeError",
     "evalue": "'cats' object has no attribute 'meow'",
     "output_type": "error",
     "traceback": [
      "\u001b[1;31m---------------------------------------------------------------------------\u001b[0m",
      "\u001b[1;31mAttributeError\u001b[0m                            Traceback (most recent call last)",
      "Cell \u001b[1;32mIn[62], line 1\u001b[0m\n\u001b[1;32m----> 1\u001b[0m \u001b[43mPookie\u001b[49m\u001b[38;5;241;43m.\u001b[39;49m\u001b[43mmeow\u001b[49m()\n",
      "\u001b[1;31mAttributeError\u001b[0m: 'cats' object has no attribute 'meow'"
     ]
    }
   ],
   "source": [
    "Pookie.meow() #hidden"
   ]
  },
  {
   "cell_type": "code",
   "execution_count": 63,
   "id": "0c2e5815",
   "metadata": {},
   "outputs": [
    {
     "ename": "AttributeError",
     "evalue": "'cats' object has no attribute '__meow'",
     "output_type": "error",
     "traceback": [
      "\u001b[1;31m---------------------------------------------------------------------------\u001b[0m",
      "\u001b[1;31mAttributeError\u001b[0m                            Traceback (most recent call last)",
      "Cell \u001b[1;32mIn[63], line 1\u001b[0m\n\u001b[1;32m----> 1\u001b[0m \u001b[43mPookie\u001b[49m\u001b[38;5;241;43m.\u001b[39;49m\u001b[43m__meow\u001b[49m()\n",
      "\u001b[1;31mAttributeError\u001b[0m: 'cats' object has no attribute '__meow'"
     ]
    }
   ],
   "source": [
    "Pookie.__meow() #hidden"
   ]
  },
  {
   "cell_type": "code",
   "execution_count": 64,
   "id": "e5f8884b",
   "metadata": {},
   "outputs": [
    {
     "name": "stdout",
     "output_type": "stream",
     "text": [
      "lil meow meow\n"
     ]
    }
   ],
   "source": [
    "Pookie._cats__meow()"
   ]
  },
  {
   "cell_type": "code",
   "execution_count": 66,
   "id": "19f3fb50",
   "metadata": {},
   "outputs": [
    {
     "data": {
      "text/plain": [
       "7"
      ]
     },
     "execution_count": 66,
     "metadata": {},
     "output_type": "execute_result"
    }
   ],
   "source": [
    "Pookie._cats__a"
   ]
  },
  {
   "cell_type": "markdown",
   "id": "1ba9bd44",
   "metadata": {},
   "source": [
    "## 4. ABSTRACTION\n",
    "\n",
    "hiding unneccessary data and showing only the necessary data\n",
    "\n",
    "usually data encapsulation is used because it hides data\n",
    "\n",
    "\n",
    "for abstraction, libraries are used\n",
    "\n",
    "#abstract base classes - abc - its a library from which data can be imported\n"
   ]
  },
  {
   "cell_type": "code",
   "execution_count": null,
   "id": "3c06a4e9",
   "metadata": {},
   "outputs": [],
   "source": []
  }
 ],
 "metadata": {
  "kernelspec": {
   "display_name": "Python 3 (ipykernel)",
   "language": "python",
   "name": "python3"
  },
  "language_info": {
   "codemirror_mode": {
    "name": "ipython",
    "version": 3
   },
   "file_extension": ".py",
   "mimetype": "text/x-python",
   "name": "python",
   "nbconvert_exporter": "python",
   "pygments_lexer": "ipython3",
   "version": "3.10.9"
  }
 },
 "nbformat": 4,
 "nbformat_minor": 5
}
