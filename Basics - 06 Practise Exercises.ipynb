{
 "cells": [
  {
   "cell_type": "markdown",
   "id": "e51f5630",
   "metadata": {},
   "source": [
    "If-Else Elif\n",
    "\n",
    "Input the values of a and b as 10 and 20 respectively. Now check if a is greater or b is greater using if condition. Think about all the edge cases, and print the statements accordingly."
   ]
  },
  {
   "cell_type": "code",
   "execution_count": 1,
   "id": "0de9d104",
   "metadata": {},
   "outputs": [
    {
     "name": "stdout",
     "output_type": "stream",
     "text": [
      "b is greater than a\n"
     ]
    }
   ],
   "source": [
    "a=10\n",
    "b=20\n",
    "\n",
    "if a>b:\n",
    "    print('a is greater than b')\n",
    "if b>a:\n",
    "    print ('b is greater than a')"
   ]
  },
  {
   "cell_type": "markdown",
   "id": "ae0e65a2",
   "metadata": {},
   "source": [
    "Find the largest number out of the input"
   ]
  },
  {
   "cell_type": "code",
   "execution_count": 5,
   "id": "f3a05a80",
   "metadata": {},
   "outputs": [
    {
     "name": "stdout",
     "output_type": "stream",
     "text": [
      "Enter first number: 13\n",
      "Enter second number: 613\n",
      "Enter third number: 7\n",
      "The largest number is 613.0\n"
     ]
    }
   ],
   "source": [
    "\n",
    "num1 = float(input(\"Enter first number: \"))\n",
    "num2 = float(input(\"Enter second number: \"))\n",
    "num3 = float(input(\"Enter third number: \"))\n",
    "\n",
    "if (num1 >= num2) and (num1 >= num3):\n",
    "   largest = num1\n",
    "elif (num2 >= num1) and (num2 >= num3):\n",
    "   largest = num2\n",
    "else:\n",
    "   largest = num3\n",
    "\n",
    "print(\"The largest number is\", largest)\n"
   ]
  },
  {
   "cell_type": "markdown",
   "id": "b0370407",
   "metadata": {},
   "source": [
    "LOOPS\n",
    "\n",
    "For a given list that contains numbers from 1 to 20. \n",
    " Using a for loop, create a new list that contains the square of each element from the given list."
   ]
  },
  {
   "cell_type": "code",
   "execution_count": 6,
   "id": "0ab499a9",
   "metadata": {},
   "outputs": [
    {
     "name": "stdout",
     "output_type": "stream",
     "text": [
      "[1, 2, 3, 4, 5, 6, 7, 8, 9, 10, 11, 12, 13, 14, 15, 16, 17, 18, 19, 20]\n"
     ]
    }
   ],
   "source": [
    "lis=list(range(1,21))\n",
    "print (lis)"
   ]
  },
  {
   "cell_type": "code",
   "execution_count": 7,
   "id": "8409b2b0",
   "metadata": {},
   "outputs": [
    {
     "name": "stdout",
     "output_type": "stream",
     "text": [
      "[1, 4, 9, 16, 25, 36, 49, 64, 81, 100, 121, 144, 169, 196, 225, 256, 289, 324, 361, 400]\n"
     ]
    }
   ],
   "source": [
    "lis2=[]\n",
    "\n",
    "for square in lis:\n",
    "    lis2.append(square*square)\n",
    "print (lis2)"
   ]
  },
  {
   "cell_type": "markdown",
   "id": "5820b9d9",
   "metadata": {},
   "source": [
    "For a given dictionary that contains numbers from 1-10 as keys, and their square as values, display each key-value pair using a for loop."
   ]
  },
  {
   "cell_type": "code",
   "execution_count": 8,
   "id": "cdcf44bc",
   "metadata": {},
   "outputs": [
    {
     "name": "stdout",
     "output_type": "stream",
     "text": [
      "{1: 1, 2: 4, 3: 9, 4: 16, 5: 25, 6: 36, 7: 49, 8: 64, 9: 81, 10: 100}\n"
     ]
    }
   ],
   "source": [
    "dic={}\n",
    "for x in range(1,11):\n",
    "    dic[x]=x**2\n",
    "print(dic) "
   ]
  },
  {
   "cell_type": "code",
   "execution_count": 9,
   "id": "46058bdd",
   "metadata": {},
   "outputs": [
    {
     "name": "stdout",
     "output_type": "stream",
     "text": [
      "{1: 1, 2: 4, 3: 9, 4: 16, 5: 25, 6: 36, 7: 49, 8: 64, 9: 81, 10: 100}\n"
     ]
    }
   ],
   "source": [
    "d2={y:y**2  for y in range (1,11)   }\n",
    "\n",
    "print (d2)"
   ]
  },
  {
   "cell_type": "markdown",
   "id": "6f012b40",
   "metadata": {},
   "source": [
    "a tuple contains even numbers from 1-20. Display all the even items in a tuple using a for loop"
   ]
  },
  {
   "cell_type": "code",
   "execution_count": 10,
   "id": "c7108e97",
   "metadata": {},
   "outputs": [
    {
     "name": "stdout",
     "output_type": "stream",
     "text": [
      "(2, 4, 6, 8, 10, 12, 14, 16, 18, 20)\n"
     ]
    }
   ],
   "source": [
    "tup=tuple(x for x in range(1,21)   if x%2==0 )\n",
    "\n",
    "print(tup)"
   ]
  },
  {
   "cell_type": "markdown",
   "id": "6c325d83",
   "metadata": {},
   "source": [
    "For a given sequence of nested lists, display the elements using a for loop. a = [[1,2],[3,4],[5,6],[7,8]]"
   ]
  },
  {
   "cell_type": "code",
   "execution_count": 11,
   "id": "bf607727",
   "metadata": {},
   "outputs": [
    {
     "name": "stdout",
     "output_type": "stream",
     "text": [
      "[1, 2]\n",
      "[3, 4]\n",
      "[5, 6]\n",
      "[7, 8]\n"
     ]
    }
   ],
   "source": [
    "a = [[1,2],[3,4],[5,6],[7,8]]\n",
    "\n",
    "for x in a:\n",
    "    print (x)"
   ]
  },
  {
   "cell_type": "code",
   "execution_count": 12,
   "id": "8226f119",
   "metadata": {},
   "outputs": [
    {
     "data": {
      "text/plain": [
       "3"
      ]
     },
     "execution_count": 12,
     "metadata": {},
     "output_type": "execute_result"
    }
   ],
   "source": [
    "# how to fetch 3 from nested list above\n",
    "\n",
    "a[1][0]   #index number of the nested list then get inside the list and write index number of the element and so on\n"
   ]
  },
  {
   "cell_type": "markdown",
   "id": "47758539",
   "metadata": {},
   "source": [
    "For a given list of natural numbers from 1-100, using the while loop, print only the numbers that are divisible by 2."
   ]
  },
  {
   "cell_type": "code",
   "execution_count": 13,
   "id": "5f96a622",
   "metadata": {},
   "outputs": [
    {
     "name": "stdout",
     "output_type": "stream",
     "text": [
      "2\n",
      "4\n",
      "6\n",
      "8\n",
      "10\n"
     ]
    }
   ],
   "source": [
    "x = 1\n",
    "\n",
    "while (x <= 10):\n",
    "    if x%2==0:\n",
    "        print(x)\n",
    "    x=x+1\n",
    "  "
   ]
  },
  {
   "cell_type": "code",
   "execution_count": 14,
   "id": "8df84667",
   "metadata": {},
   "outputs": [
    {
     "name": "stdout",
     "output_type": "stream",
     "text": [
      "enter your number: 7\n",
      "The factorial of this number is  5040\n"
     ]
    }
   ],
   "source": [
    "#factorial\n",
    "\n",
    "num = int(input(\"enter your number: \"))\n",
    "factorial = 1\n",
    "for i in range(1, num+1):\n",
    "    factorial = factorial*i\n",
    "print ('The factorial of this number is ',factorial)"
   ]
  },
  {
   "cell_type": "markdown",
   "id": "78cedee2",
   "metadata": {},
   "source": [
    "FUNCTIONS\n",
    "\n",
    "Calculate the multiplication and sum of two numbers Given two integer numbers return their product only if the product is equal to or lower than 1000, else return their sum."
   ]
  },
  {
   "cell_type": "code",
   "execution_count": 15,
   "id": "43fb4a95",
   "metadata": {},
   "outputs": [],
   "source": [
    "def maths(a,b):\n",
    "    if a*b<=1000:\n",
    "        return a*b\n",
    "    else:\n",
    "        return a+b"
   ]
  },
  {
   "cell_type": "code",
   "execution_count": 16,
   "id": "2a6943ae",
   "metadata": {},
   "outputs": [
    {
     "data": {
      "text/plain": [
       "600"
      ]
     },
     "execution_count": 16,
     "metadata": {},
     "output_type": "execute_result"
    }
   ],
   "source": [
    "maths(20,30)"
   ]
  },
  {
   "cell_type": "code",
   "execution_count": 17,
   "id": "439db6c5",
   "metadata": {},
   "outputs": [
    {
     "data": {
      "text/plain": [
       "70"
      ]
     },
     "execution_count": 17,
     "metadata": {},
     "output_type": "execute_result"
    }
   ],
   "source": [
    "maths(40,30)"
   ]
  },
  {
   "cell_type": "markdown",
   "id": "9783721c",
   "metadata": {},
   "source": [
    "Write a function to check if the year number is a leap year."
   ]
  },
  {
   "cell_type": "code",
   "execution_count": 22,
   "id": "c8aa3c81",
   "metadata": {},
   "outputs": [],
   "source": [
    "def leapyear():\n",
    "    year = int(input('Enter the year you want to check: '))\n",
    "    \n",
    "    if year%400==0:\n",
    "        print(f'{year} is a leap year')\n",
    "    elif year%100==0:\n",
    "        print(f'{year} is not a leap year')\n",
    "    elif year%4==0:\n",
    "        print(f'{year} is a leap year')\n",
    "    else:\n",
    "        print(f'{year} is not a leap year')"
   ]
  },
  {
   "cell_type": "code",
   "execution_count": 23,
   "id": "267b256d",
   "metadata": {},
   "outputs": [
    {
     "name": "stdout",
     "output_type": "stream",
     "text": [
      "Enter the year you want to check: 2000\n",
      "2000 is a leap year\n"
     ]
    }
   ],
   "source": [
    "leapyear()"
   ]
  },
  {
   "cell_type": "code",
   "execution_count": 24,
   "id": "0597f67c",
   "metadata": {},
   "outputs": [
    {
     "name": "stdout",
     "output_type": "stream",
     "text": [
      "Enter the year you want to check: 1900\n",
      "1900 is not a leap year\n"
     ]
    }
   ],
   "source": [
    "leapyear()"
   ]
  },
  {
   "cell_type": "code",
   "execution_count": 27,
   "id": "25a2bcb6",
   "metadata": {},
   "outputs": [
    {
     "name": "stdout",
     "output_type": "stream",
     "text": [
      "Enter the year you want to check: 1997\n",
      "1997 is not a leap year\n"
     ]
    }
   ],
   "source": [
    "leapyear()"
   ]
  },
  {
   "cell_type": "markdown",
   "id": "bbdc68b2",
   "metadata": {},
   "source": [
    "Take user input string and check whether that string is palindrome or not."
   ]
  },
  {
   "cell_type": "code",
   "execution_count": 29,
   "id": "17c7c8d2",
   "metadata": {},
   "outputs": [],
   "source": [
    "def palindrome():\n",
    "    s = input('Enter the string you want to check: ')\n",
    "    if s == s[::-1]:\n",
    "        print(f'{s} is palindrome')\n",
    "    else:\n",
    "        print(f'{s} is not palindrome')"
   ]
  },
  {
   "cell_type": "code",
   "execution_count": 31,
   "id": "e91b9c58",
   "metadata": {},
   "outputs": [
    {
     "name": "stdout",
     "output_type": "stream",
     "text": [
      "Enter the string you want to check: level\n",
      "level is palindrome\n"
     ]
    }
   ],
   "source": [
    "palindrome()"
   ]
  },
  {
   "cell_type": "code",
   "execution_count": 32,
   "id": "5655302a",
   "metadata": {},
   "outputs": [
    {
     "name": "stdout",
     "output_type": "stream",
     "text": [
      "Enter the string you want to check: microwave\n",
      "microwave is not palindrome\n"
     ]
    }
   ],
   "source": [
    "palindrome()"
   ]
  },
  {
   "cell_type": "code",
   "execution_count": null,
   "id": "a35c8200",
   "metadata": {},
   "outputs": [],
   "source": []
  }
 ],
 "metadata": {
  "kernelspec": {
   "display_name": "Python 3 (ipykernel)",
   "language": "python",
   "name": "python3"
  },
  "language_info": {
   "codemirror_mode": {
    "name": "ipython",
    "version": 3
   },
   "file_extension": ".py",
   "mimetype": "text/x-python",
   "name": "python",
   "nbconvert_exporter": "python",
   "pygments_lexer": "ipython3",
   "version": "3.10.9"
  }
 },
 "nbformat": 4,
 "nbformat_minor": 5
}
