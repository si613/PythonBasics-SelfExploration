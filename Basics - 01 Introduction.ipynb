{
 "cells": [
  {
   "cell_type": "markdown",
   "id": "5b8c5c78",
   "metadata": {},
   "source": [
    "## Basics - Introduction"
   ]
  },
  {
   "cell_type": "markdown",
   "id": "4639fdda",
   "metadata": {},
   "source": [
    "Python is an interpreted language- it will execute line by line. Python makes debugging easier as in some other programming languages, the whole code will be executed. \n",
    "\n",
    "We dont need to declare data types of values in python. Anything inside double/single quotes is a string and anything outside double/single quotes is integer or float(decimal)"
   ]
  },
  {
   "cell_type": "code",
   "execution_count": 1,
   "id": "dc3e3d34",
   "metadata": {},
   "outputs": [
    {
     "data": {
      "text/plain": [
       "int"
      ]
     },
     "execution_count": 1,
     "metadata": {},
     "output_type": "execute_result"
    }
   ],
   "source": [
    "type(1)"
   ]
  },
  {
   "cell_type": "code",
   "execution_count": 2,
   "id": "039a239b",
   "metadata": {},
   "outputs": [
    {
     "data": {
      "text/plain": [
       "str"
      ]
     },
     "execution_count": 2,
     "metadata": {},
     "output_type": "execute_result"
    }
   ],
   "source": [
    "type(\"panda\")"
   ]
  },
  {
   "cell_type": "code",
   "execution_count": 3,
   "id": "34f1ffb1",
   "metadata": {},
   "outputs": [
    {
     "data": {
      "text/plain": [
       "float"
      ]
     },
     "execution_count": 3,
     "metadata": {},
     "output_type": "execute_result"
    }
   ],
   "source": [
    "type(87.3)"
   ]
  },
  {
   "cell_type": "code",
   "execution_count": 4,
   "id": "567630bc",
   "metadata": {},
   "outputs": [
    {
     "data": {
      "text/plain": [
       "bool"
      ]
     },
     "execution_count": 4,
     "metadata": {},
     "output_type": "execute_result"
    }
   ],
   "source": [
    "type(True)"
   ]
  },
  {
   "cell_type": "code",
   "execution_count": 2,
   "id": "c7b4111d",
   "metadata": {},
   "outputs": [
    {
     "name": "stdout",
     "output_type": "stream",
     "text": [
      "1\n",
      "1.0\n"
     ]
    }
   ],
   "source": [
    "#casting - typecasting is changing datatype of element\n",
    "\n",
    "x=1\n",
    "print (x)\n",
    "\n",
    "x=float(1)\n",
    "print(x)"
   ]
  },
  {
   "cell_type": "markdown",
   "id": "2f20d703",
   "metadata": {},
   "source": [
    "Variables in python are like containers to store a value (Like a water bottle)\n",
    "\n",
    "Python is case sensitive\n",
    "\n",
    "**When naming viariables:**\n",
    "\n",
    "    we can use underscores, these are the only special characters that work in python. \n",
    "    we can also start any variable with underscore in the beginning too. _salma is an example \n",
    "    we cant start a number like 7salma=10.  "
   ]
  },
  {
   "cell_type": "code",
   "execution_count": 6,
   "id": "2527cc37",
   "metadata": {},
   "outputs": [
    {
     "name": "stdout",
     "output_type": "stream",
     "text": [
      "10 100 730 800\n"
     ]
    }
   ],
   "source": [
    "a=10\n",
    "A=100\n",
    "pika_chu=730\n",
    "pika7chu=800\n",
    "\n",
    "print(a, A, pika_chu, pika7chu)"
   ]
  },
  {
   "cell_type": "code",
   "execution_count": 7,
   "id": "ffebfba7",
   "metadata": {},
   "outputs": [
    {
     "name": "stdout",
     "output_type": "stream",
     "text": [
      "1 2 3\n"
     ]
    }
   ],
   "source": [
    "# ASSIGNING MULTIPLE VALUES AT ONCE\n",
    "x, y, z=1,2,3\n",
    "print (x,y,z)"
   ]
  },
  {
   "cell_type": "markdown",
   "id": "b74ae86d",
   "metadata": {},
   "source": [
    "**OPERATORS**\n",
    "\n",
    "    arithmetic operators -, +,-,*,/\n",
    "    assignment operators =, +=, -=, *=, /=\n",
    "    comparison operators =, ==, <=, >=, !=\n",
    "    logical operators and, or, not\n",
    "    identity operators is, is not\n",
    "    membership operator in, not in"
   ]
  }
 ],
 "metadata": {
  "kernelspec": {
   "display_name": "Python 3 (ipykernel)",
   "language": "python",
   "name": "python3"
  },
  "language_info": {
   "codemirror_mode": {
    "name": "ipython",
    "version": 3
   },
   "file_extension": ".py",
   "mimetype": "text/x-python",
   "name": "python",
   "nbconvert_exporter": "python",
   "pygments_lexer": "ipython3",
   "version": "3.10.9"
  }
 },
 "nbformat": 4,
 "nbformat_minor": 5
}
